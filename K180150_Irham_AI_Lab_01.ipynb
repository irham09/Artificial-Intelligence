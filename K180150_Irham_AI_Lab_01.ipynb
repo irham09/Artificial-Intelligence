{
 "metadata": {
  "language_info": {
   "codemirror_mode": {
    "name": "ipython",
    "version": 3
   },
   "file_extension": ".py",
   "mimetype": "text/x-python",
   "name": "python",
   "nbconvert_exporter": "python",
   "pygments_lexer": "ipython3",
   "version": "3.8.3-final"
  },
  "orig_nbformat": 2,
  "kernelspec": {
   "name": "python3",
   "display_name": "Python 3",
   "language": "python"
  }
 },
 "nbformat": 4,
 "nbformat_minor": 2,
 "cells": [
  {
   "source": [
    "<h3>Q1) Write a python program that takes user input for a number then adds 3 to that number.Then multiplies the result by 2, subtract 4, then again adds 3, then prints the result. </h3>"
   ],
   "cell_type": "markdown",
   "metadata": {}
  },
  {
   "cell_type": "code",
   "execution_count": 16,
   "metadata": {},
   "outputs": [
    {
     "output_type": "stream",
     "name": "stdout",
     "text": [
      "Result: 11\n"
     ]
    }
   ],
   "source": [
    "num = int(input(\"Enter a number: \"))\n",
    "num += 3\n",
    "num *= 2\n",
    "num -= 4\n",
    "num += 3\n",
    "print(\"Result: {}\".format(num))"
   ]
  },
  {
   "source": [
    "<h3>Q2) Write a python program that takes input as radius then calculates the area of the circle. (hint: A= πr²). </h3>"
   ],
   "cell_type": "markdown",
   "metadata": {}
  },
  {
   "cell_type": "code",
   "execution_count": 18,
   "metadata": {},
   "outputs": [
    {
     "output_type": "stream",
     "name": "stdout",
     "text": [
      "Area: 28.278\n"
     ]
    }
   ],
   "source": [
    "radius = int(input(\"Enter radius: \"))\n",
    "area = 3.142*radius**2\n",
    "print(\"Area: {}\".format(area))"
   ]
  },
  {
   "source": [
    "<h3>Q3) Write a Python program that asks users for their favourite color. Create the following output (assuming blue is the chosen color) (hint: use ‘+’ and ‘*’)                                  blueblueblueblueblueblueblueblueblueblue                                  blue                                                      blue                                  blueblueblueblueblueblueblueblueblueblue </h3>"
   ],
   "cell_type": "markdown",
   "metadata": {}
  },
  {
   "cell_type": "code",
   "execution_count": 34,
   "metadata": {},
   "outputs": [
    {
     "output_type": "stream",
     "name": "stdout",
     "text": [
      "blueblueblueblueblueblueblueblueblueblue\nblue                                blue\nblueblueblueblueblueblueblueblueblueblue\n"
     ]
    }
   ],
   "source": [
    "fav_color = input(\"Enter your favorite color: \")\n",
    "print(fav_color*10)\n",
    "print(fav_color+\" \"*(len(fav_color)*8)+fav_color)\n",
    "print(fav_color*10)"
   ]
  },
  {
   "source": [
    "<h3>Q4) Store a person’s name, and include some whitespace characters at the beginning and end of the name. Make sure you use each character combination, \"\\t\" and \"\\n\", at least once. Print the name once, so the whitespace around the name is displayed. Then print the name using each of the three stripping functions, lstrip(),rstrip(), and strip(). </h3>"
   ],
   "cell_type": "markdown",
   "metadata": {}
  },
  {
   "cell_type": "code",
   "execution_count": 54,
   "metadata": {},
   "outputs": [
    {
     "output_type": "stream",
     "name": "stdout",
     "text": [
      "Full Name: ' Ovaiz Ali '\nStriped Output:\n\t\tlstrip(): \t'Ovaiz Ali '\n\t\trstrip(): \t' Ovaiz Ali'\n\t\tstrip(): \t'Ovaiz Ali'\n"
     ]
    }
   ],
   "source": [
    "full_name = \" Ovaiz Ali \"\n",
    "lstrip = (\"\\t'\" + full_name.lstrip() + \"'\")\n",
    "rstrip = (\"\\t'\" + full_name.rstrip() + \"'\")\n",
    "strip = (\"\\t'\" + full_name.strip() + \"'\")\n",
    "print(\"Full Name: {}\".format(\"'\" + full_name + \"'\"))\n",
    "print(\"Striped Output:\\n\\t\" + \"\\tlstrip(): {}\".format(lstrip) + \"\\n\\t\" + \"\\trstrip(): {}\".format(rstrip) + \"\\n\\t\" + \"\\tstrip(): {}\".format(strip))"
   ]
  },
  {
   "source": [
    "<h3>Q5) Write a function called absolute_num() that accepts one parameter, num. The function should return only positive value , and apply condition on it. This function returns the absolute value of the entered number. </h3>"
   ],
   "cell_type": "markdown",
   "metadata": {}
  },
  {
   "cell_type": "code",
   "execution_count": 58,
   "metadata": {},
   "outputs": [
    {
     "output_type": "stream",
     "name": "stdout",
     "text": [
      "Absolute value for positive number: 7\nAbsolute value for negative number: 5\n"
     ]
    }
   ],
   "source": [
    "def absolute_num(num):\n",
    "    if num > 0:\n",
    "        return num\n",
    "    else: return num * -1\n",
    "\n",
    "print(\"Absolute value for positive number: {}\".format(absolute_num(7)))\n",
    "print(\"Absolute value for negative number: {}\".format(absolute_num(-5)))\n"
   ]
  },
  {
   "source": [
    "<h3>Q6) Write a python program that takes a user input and to create the multiplication table    (from 1 to 10) of that number. </h3>"
   ],
   "cell_type": "markdown",
   "metadata": {}
  },
  {
   "cell_type": "code",
   "execution_count": 72,
   "metadata": {},
   "outputs": [
    {
     "output_type": "stream",
     "name": "stdout",
     "text": [
      "8 * 1 = 8\n8 * 2 = 16\n8 * 3 = 24\n8 * 4 = 32\n8 * 5 = 40\n8 * 6 = 48\n8 * 7 = 56\n8 * 8 = 64\n8 * 9 = 72\n8 * 10 = 80\n"
     ]
    }
   ],
   "source": [
    "num = int(input(\"Enter a number to create multiplication table: \"))\n",
    "for i in range(1,11):\n",
    "    print(\"{} * {} = {}\".format(num,i,num*i))"
   ]
  },
  {
   "source": [
    "<h3>Q7) Write a Python program that prints all the numbers from 0 to 6 except 3 and 6.       Note : Use 'continue' statement. </h3>"
   ],
   "cell_type": "markdown",
   "metadata": {}
  },
  {
   "cell_type": "code",
   "execution_count": 78,
   "metadata": {},
   "outputs": [
    {
     "output_type": "stream",
     "name": "stdout",
     "text": [
      "0\n1\n2\n4\n5\n"
     ]
    }
   ],
   "source": [
    "for i in range(7):\n",
    "    if i == 3 or i == 6:\n",
    "        continue\n",
    "    print(\"{}\".format(i))"
   ]
  },
  {
   "source": [
    "<ul>\n",
    "<h3>Q8) Stages of Life: Write an if-elif-else chain that determines a person’s stage of life. Set a value for the variable age, and then: </h3>\n",
    "<li>If the person is less than 2 years old, print a message that the person is a baby.</li>\n",
    "<li>If the person is at least 4 years old but less than 13, print a message that the person is a kid.</li> \n",
    "<li>If the person is at least 13 years old but less than 20, print a message that the person is a teenager.</li> \n",
    "<li>If the person is at least 20 years old but less than 65, print a message that the person is an adult.</li> \n",
    "<li>If the person is age 65 or older, print a message that the person is an elder.</li>\n",
    "</ul>"
   ],
   "cell_type": "markdown",
   "metadata": {}
  },
  {
   "cell_type": "code",
   "execution_count": 81,
   "metadata": {},
   "outputs": [
    {
     "output_type": "stream",
     "name": "stdout",
     "text": [
      "Person is an Adult\n"
     ]
    }
   ],
   "source": [
    "age = 21\n",
    "if age < 2: \n",
    "    print(\"Person is a Baby\")\n",
    "elif age >= 4 and age < 13: \n",
    "    print(\"Person is a Kid\")\n",
    "elif age >= 13 and age < 20: \n",
    "    print(\"Person is a Teenager\")\n",
    "elif age >= 20 and age < 65: \n",
    "    print(\"Person is an Adult\")\n",
    "elif age == 65 or age > 65: \n",
    "    print(\"Person is a Elder\")"
   ]
  }
 ]
}